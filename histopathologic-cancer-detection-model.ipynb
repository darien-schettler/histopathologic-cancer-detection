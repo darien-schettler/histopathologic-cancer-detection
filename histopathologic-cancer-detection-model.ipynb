{
 "cells": [
  {
   "cell_type": "code",
   "execution_count": 30,
   "metadata": {},
   "outputs": [],
   "source": [
    "# Import Libraries\n",
    "import os\n",
    "import numpy as np\n",
    "import pandas as pd\n",
    "import matplotlib.pyplot as plt\n",
    "import keras\n",
    "import cv2\n",
    "import shutil\n",
    "from sklearn.metrics import roc_curve, auc, roc_auc_score\n",
    "from sklearn.model_selection import train_test_split\n",
    "from keras.preprocessing.image import ImageDataGenerator\n",
    "from keras.applications import VGG16\n",
    " \n",
    "from keras.layers import Dropout, Flatten, Activation, Dense, GlobalMaxPooling2D\n",
    "from keras.models import Sequential, Model\n",
    "from keras.callbacks import ModelCheckpoint\n",
    "from keras.optimizers import Adam\n",
    "\n",
    "from keras.callbacks import CSVLogger\n",
    "from keras.utils.vis_utils import plot_model"
   ]
  },
  {
   "cell_type": "code",
   "execution_count": 2,
   "metadata": {},
   "outputs": [],
   "source": [
    "# Define Global Hyperparameters\n",
    "\n",
    "IMAGE_SIZE = 96\n",
    "EPOCHS = 10\n",
    "BATCH_SIZE = 256\n",
    "VERBOSITY = 1\n",
    "TESTING_BATCH_SIZE = 5000"
   ]
  },
  {
   "cell_type": "code",
   "execution_count": 3,
   "metadata": {},
   "outputs": [],
   "source": [
    "input_dir = \"./data/\"\n",
    "train_dir = input_dir + str(\"train/\")\n",
    "val_dir = input_dir + str(\"val/\")\n",
    "test_dir = input_dir + str(\"test/\")"
   ]
  },
  {
   "cell_type": "code",
   "execution_count": 4,
   "metadata": {},
   "outputs": [],
   "source": [
    "df = pd.read_csv(\"./data/train_labels.csv\")\n",
    "df['path'] = [str(train_dir)+str(x)+\".tif\" for x in df['id']]\n",
    "df['image'] = [cv2.imread(x) for x in df['path']]"
   ]
  },
  {
   "cell_type": "raw",
   "metadata": {},
   "source": [
    "print(df.head())"
   ]
  },
  {
   "cell_type": "code",
   "execution_count": null,
   "metadata": {},
   "outputs": [],
   "source": [
    "train_df, val_df = train_test_split(df, test_size=0.033)\n",
    "\n",
    "neg_train_samples = train_df[train_df.label == 0]\n",
    "pos_train_samples = train_df[train_df.label == 1]\n",
    "\n",
    "neg_val_samples = val_df[val_df.label == 0]\n",
    "pos_val_samples = val_df[val_df.label == 1]\n",
    "\n",
    "neg_train_samples = neg_train_samples.reset_index(drop=True)\n",
    "pos_train_samples = pos_train_samples.reset_index(drop=True)\n",
    "\n",
    "neg_val_samples = neg_val_samples.reset_index(drop=True)\n",
    "pos_val_samples = pos_val_samples.reset_index(drop=True)\n",
    "\n",
    "\n",
    "print(\"# Of Negative Training Samples : {}\".format(len(neg_train_samples)))\n",
    "print(\"# Of Positive Training Samples : {}\".format(len(pos_train_samples)))\n",
    "print(\"# Of Negative Validation Samples : {}\".format(len(neg_val_samples)))\n",
    "print(\"# Of Positive Validation Samples : {}\".format(len(pos_val_samples)))"
   ]
  },
  {
   "cell_type": "code",
   "execution_count": null,
   "metadata": {},
   "outputs": [],
   "source": [
    "# Code here to move images into the appropriate directories as they start sitting in the train and test folders\n",
    "# and need to be moved into train/0, train/1 and test/0, test/1\n",
    "\n",
    "#[shutil.move(x, train_dir + \"0/\") for x in neg_train_samples['path']]\n",
    "#[shutil.move(x, train_dir + \"1/\") for x in pos_train_samples['path']]\n",
    "#[shutil.move(x, val_dir + \"0/\") for x in neg_val_samples['path']]\n",
    "#[shutil.move(x, val_dir + \"1/\") for x in pos_val_samples['path']]\n",
    "\n",
    "#for filename in os.listdir(\"./data/train/0/\"):\n",
    "#    if filename.endswith(\".tif\"):\n",
    "#        shutil.move(\"./data/train/0/\"+filename, train_dir)\n",
    "#\n",
    "#for filename in os.listdir(\"./data/train/1/\"):\n",
    "#    if filename.endswith(\".tif\"):\n",
    "#        shutil.move(\"./data/train/1/\"+filename, train_dir)"
   ]
  },
  {
   "cell_type": "code",
   "execution_count": 5,
   "metadata": {},
   "outputs": [],
   "source": [
    "# Data augmentation\n",
    "training_data_generator = ImageDataGenerator(rescale=1./255,\n",
    "                                             horizontal_flip=True,\n",
    "                                             vertical_flip=True,\n",
    "                                             rotation_range=180,\n",
    "                                             zoom_range=0.3, \n",
    "                                             width_shift_range=0.3,\n",
    "                                             height_shift_range=0.3,\n",
    "                                             shear_range=0.3,\n",
    "                                             channel_shift_range=0.3)"
   ]
  },
  {
   "cell_type": "code",
   "execution_count": 8,
   "metadata": {},
   "outputs": [],
   "source": [
    "# Data augmentation\n",
    "val_data_generator = ImageDataGenerator(rescale=1./255)"
   ]
  },
  {
   "cell_type": "code",
   "execution_count": 9,
   "metadata": {},
   "outputs": [
    {
     "name": "stdout",
     "output_type": "stream",
     "text": [
      "Found 212764 images belonging to 2 classes.\n"
     ]
    }
   ],
   "source": [
    "# Data generation\n",
    "training_generator = training_data_generator.flow_from_directory(train_dir,\n",
    "                                                                 target_size=(IMAGE_SIZE,IMAGE_SIZE),\n",
    "                                                                 batch_size=BATCH_SIZE,\n",
    "                                                                 class_mode='binary')"
   ]
  },
  {
   "cell_type": "code",
   "execution_count": 10,
   "metadata": {},
   "outputs": [
    {
     "name": "stdout",
     "output_type": "stream",
     "text": [
      "Found 7261 images belonging to 2 classes.\n"
     ]
    }
   ],
   "source": [
    "validation_generator = val_data_generator.flow_from_directory(val_dir,\n",
    "                                                              target_size=(IMAGE_SIZE,IMAGE_SIZE),\n",
    "                                                              batch_size=BATCH_SIZE,\n",
    "                                                              class_mode='binary')"
   ]
  },
  {
   "cell_type": "code",
   "execution_count": 14,
   "metadata": {},
   "outputs": [
    {
     "name": "stdout",
     "output_type": "stream",
     "text": [
      "_________________________________________________________________\n",
      "Layer (type)                 Output Shape              Param #   \n",
      "=================================================================\n",
      "vgg16 (Model)                (None, 3, 3, 512)         14714688  \n",
      "_________________________________________________________________\n",
      "flatten_1 (Flatten)          (None, 4608)              0         \n",
      "_________________________________________________________________\n",
      "dense_1 (Dense)              (None, 512)               2359808   \n",
      "_________________________________________________________________\n",
      "dropout_1 (Dropout)          (None, 512)               0         \n",
      "_________________________________________________________________\n",
      "dense_2 (Dense)              (None, 1)                 513       \n",
      "=================================================================\n",
      "Total params: 17,075,009\n",
      "Trainable params: 17,075,009\n",
      "Non-trainable params: 0\n",
      "_________________________________________________________________\n"
     ]
    }
   ],
   "source": [
    "# Model Ver. 1.0 - model_V_1\n",
    "\n",
    "# Define what the input will look like\n",
    "image_shape = (IMAGE_SIZE, IMAGE_SIZE, 3)\n",
    "\n",
    "# Define the VGG16 model to use the imagenet weights without a top (note the input shape as image_shape)\n",
    "vgg_conv = VGG16(weights='imagenet',\n",
    "                  include_top=False,\n",
    "                  input_shape=(image_shape))\n",
    "\n",
    "\n",
    "# Create the model\n",
    "model_V_1 = Sequential()\n",
    " \n",
    "# Add the vgg convolutional base model\n",
    "model_V_1.add(vgg_conv)\n",
    " \n",
    "# Add new layers\n",
    "model_V_1.add(Flatten())\n",
    "model_V_1.add(Dense(512, activation='relu'))\n",
    "model_V_1.add(Dropout(0.4))\n",
    "model_V_1.add(Dense(1, activation='sigmoid'))\n",
    " \n",
    "# Show a summary of the model. Check the number of trainable parameters\n",
    "model_V_1.summary()\n",
    "\n",
    "model_V_1.compile(optimizer=Adam(lr=0.0002, decay=0.00001),\n",
    "              loss='binary_crossentropy',\n",
    "              metrics=['accuracy'])"
   ]
  },
  {
   "cell_type": "code",
   "execution_count": 19,
   "metadata": {},
   "outputs": [
    {
     "name": "stdout",
     "output_type": "stream",
     "text": [
      "Epoch 1/10\n",
      "832/832 [==============================] - 617s 742ms/step - loss: 0.3334 - acc: 0.8552 - val_loss: 0.2211 - val_acc: 0.9167\n",
      "Epoch 2/10\n",
      "832/832 [==============================] - 613s 737ms/step - loss: 0.2245 - acc: 0.9121 - val_loss: 0.1894 - val_acc: 0.9291\n",
      "Epoch 3/10\n",
      "832/832 [==============================] - 615s 739ms/step - loss: 0.1986 - acc: 0.9234 - val_loss: 0.1611 - val_acc: 0.9426\n",
      "Epoch 4/10\n",
      "832/832 [==============================] - 619s 744ms/step - loss: 0.1869 - acc: 0.9297 - val_loss: 0.2212 - val_acc: 0.9198\n",
      "Epoch 5/10\n",
      "832/832 [==============================] - 616s 741ms/step - loss: 0.1736 - acc: 0.9351 - val_loss: 0.1655 - val_acc: 0.9402\n",
      "Epoch 6/10\n",
      "832/832 [==============================] - 616s 740ms/step - loss: 0.1653 - acc: 0.9388 - val_loss: 0.1443 - val_acc: 0.9470\n",
      "Epoch 7/10\n",
      "832/832 [==============================] - 616s 741ms/step - loss: 0.1615 - acc: 0.9403 - val_loss: 0.1905 - val_acc: 0.9303\n",
      "Epoch 8/10\n",
      "832/832 [==============================] - 615s 739ms/step - loss: 0.1524 - acc: 0.9440 - val_loss: 0.2197 - val_acc: 0.9226\n",
      "Epoch 9/10\n",
      "832/832 [==============================] - 617s 741ms/step - loss: 0.1472 - acc: 0.9461 - val_loss: 0.1387 - val_acc: 0.9493\n",
      "Epoch 10/10\n",
      "832/832 [==============================] - 618s 743ms/step - loss: 0.1432 - acc: 0.9483 - val_loss: 0.1162 - val_acc: 0.9606\n"
     ]
    }
   ],
   "source": [
    "#  Training\n",
    "history_V_1 = model_V_1.fit_generator(training_generator,\n",
    "                                      steps_per_epoch=len(training_generator), \n",
    "                                      validation_data=validation_generator,\n",
    "                                      validation_steps=len(validation_generator),\n",
    "                                      epochs=EPOCHS,\n",
    "                                      verbose=VERBOSITY)"
   ]
  },
  {
   "cell_type": "code",
   "execution_count": 23,
   "metadata": {},
   "outputs": [
    {
     "data": {
      "text/plain": [
       "Text(0.5,0,'epoch')"
      ]
     },
     "execution_count": 23,
     "metadata": {},
     "output_type": "execute_result"
    },
    {
     "data": {
      "image/png": "[encoded data removed]",
      "text/plain": [
       "<Figure size 432x288 with 1 Axes>"
      ]
     },
     "metadata": {},
     "output_type": "display_data"
    }
   ],
   "source": [
    "plt.plot(history_V_1.history['loss'], color='blue', label=\"training_loss\")\n",
    "plt.plot(history_V_1.history['val_loss'], color='red', label=\"validation_loss\")\n",
    "plt.legend(loc='best')\n",
    "plt.title('training')\n",
    "plt.xlabel('epoch')"
   ]
  },
  {
   "cell_type": "code",
   "execution_count": 26,
   "metadata": {},
   "outputs": [
    {
     "data": {
      "text/plain": [
       "Text(0.5,0,'epoch')"
      ]
     },
     "execution_count": 26,
     "metadata": {},
     "output_type": "execute_result"
    },
    {
     "data": {
      "image/png": "[encoded data removed]",
      "text/plain": [
       "<Figure size 432x288 with 1 Axes>"
      ]
     },
     "metadata": {},
     "output_type": "display_data"
    }
   ],
   "source": [
    "plt.plot(history_V_1.history['acc'], color='blue', label=\"training_accuracy\")\n",
    "plt.plot(history_V_1.history['val_acc'], color='red',label=\"validation_accuracy\")\n",
    "plt.legend(loc='best')\n",
    "plt.title('validation')\n",
    "plt.xlabel('epoch')"
   ]
  },
  {
   "cell_type": "code",
   "execution_count": 31,
   "metadata": {
    "collapsed": true
   },
   "outputs": [
    {
     "name": "stdout",
     "output_type": "stream",
     "text": [
      "29/29 [==============================] - 4s 121ms/step\n"
     ]
    },
    {
     "data": {
      "text/plain": [
       "<matplotlib.legend.Legend at 0x7fc4682d9fd0>"
      ]
     },
     "execution_count": 31,
     "metadata": {},
     "output_type": "execute_result"
    },
    {
     "data": {
      "image/png": "[encoded data removed]",
      "text/plain": [
       "<Figure size 432x288 with 1 Axes>"
      ]
     },
     "metadata": {},
     "output_type": "display_data"
    }
   ],
   "source": [
    "# ROC testing plot\n",
    "predictions = model_V_1.predict_generator(validation_generator, steps=len(validation_generator), verbose=VERBOSITY)\n",
    "false_positive_rate, true_positive_rate, threshold = roc_curve(validation_generator.classes, predictions)\n",
    "area_under_curve = auc(false_positive_rate, true_positive_rate)\n",
    "\n",
    "plt.plot([0, 1], [0, 1], 'k--')\n",
    "plt.plot(false_positive_rate, true_positive_rate, label='AUC = {:.3f}'.format(area_under_curve))\n",
    "plt.xlabel('False positive rate')\n",
    "plt.ylabel('True positive rate')\n",
    "plt.title('ROC curve')\n",
    "plt.legend(loc='best')"
   ]
  },
  {
   "cell_type": "code",
   "execution_count": null,
   "metadata": {},
   "outputs": [],
   "source": []
  }
 ],
 "metadata": {
  "kernelspec": {
   "display_name": "Python [conda env:tensorflow_p36]",
   "language": "python",
   "name": "conda-env-tensorflow_p36-py"
  },
  "language_info": {
   "codemirror_mode": {
    "name": "ipython",
    "version": 3
   },
   "file_extension": ".py",
   "mimetype": "text/x-python",
   "name": "python",
   "nbconvert_exporter": "python",
   "pygments_lexer": "ipython3",
   "version": "3.6.8"
  }
 },
 "nbformat": 4,
 "nbformat_minor": 2
}
